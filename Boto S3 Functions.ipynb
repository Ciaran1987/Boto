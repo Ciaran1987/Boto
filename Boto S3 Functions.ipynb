{
 "cells": [
  {
   "cell_type": "code",
   "execution_count": 3,
   "metadata": {
    "collapsed": true
   },
   "outputs": [],
   "source": [
    "\"\"\"following instructions from https://boto3.amazonaws.com/v1/documentation/api/latest/guide/quickstart.html\n",
    "Note AWS CLI used to create configuration and region files, link: \n",
    "https://docs.aws.amazon.com/cli/latest/userguide/tutorial-ec2-ubuntu.html\n",
    "boto install via pip installer\"\"\"\n",
    "import boto3"
   ]
  },
  {
   "cell_type": "code",
   "execution_count": 4,
   "metadata": {
    "collapsed": false
   },
   "outputs": [],
   "source": [
    "#using Amazon S3\n",
    "s3 = boto3.resource('s3')"
   ]
  },
  {
   "cell_type": "code",
   "execution_count": 5,
   "metadata": {
    "collapsed": false
   },
   "outputs": [
    {
     "name": "stdout",
     "output_type": "stream",
     "text": [
      "s3.Bucket(name='clidatatest')\n"
     ]
    }
   ],
   "source": [
    "#list all available buckets\n",
    "for bucket in s3.buckets.all():\n",
    "    print(bucket)"
   ]
  },
  {
   "cell_type": "code",
   "execution_count": 11,
   "metadata": {
    "collapsed": false
   },
   "outputs": [
    {
     "data": {
      "text/plain": [
       "s3.Bucket(name='ciaran-test-twitter-bucket')"
      ]
     },
     "execution_count": 11,
     "metadata": {},
     "output_type": "execute_result"
    }
   ],
   "source": [
    "# Create a new bucket\n",
    "# Note bucket name must be unique\n",
    "# https://boto3.amazonaws.com/v1/documentation/api/latest/guide/s3-example-creating-buckets.html#create-an-amazon-s3-bucket\n",
    "s3.create_bucket(Bucket='ciaran-test-twitter-bucket',CreateBucketConfiguration={'LocationConstraint':'us-east-2'})"
   ]
  },
  {
   "cell_type": "code",
   "execution_count": 13,
   "metadata": {
    "collapsed": false
   },
   "outputs": [],
   "source": [
    "#Upload a file to the created bucket\n",
    "#https://boto3.amazonaws.com/v1/documentation/api/latest/guide/s3-example-creating-buckets.html#upload-a-file-to-an-amazon-s3-bucket\n",
    "# Create an S3 client\n",
    "s3 = boto3.client('s3')\n",
    "filename = 'example.txt'\n",
    "bucket_name = 'ciaran-test-twitter-bucket'\n",
    "s3.upload_file(filename, bucket_name, filename)"
   ]
  },
  {
   "cell_type": "code",
   "execution_count": null,
   "metadata": {
    "collapsed": true
   },
   "outputs": [],
   "source": []
  }
 ],
 "metadata": {
  "anaconda-cloud": {},
  "kernelspec": {
   "display_name": "Python [Root]",
   "language": "python",
   "name": "Python [Root]"
  },
  "language_info": {
   "codemirror_mode": {
    "name": "ipython",
    "version": 3
   },
   "file_extension": ".py",
   "mimetype": "text/x-python",
   "name": "python",
   "nbconvert_exporter": "python",
   "pygments_lexer": "ipython3",
   "version": "3.5.2"
  }
 },
 "nbformat": 4,
 "nbformat_minor": 0
}
